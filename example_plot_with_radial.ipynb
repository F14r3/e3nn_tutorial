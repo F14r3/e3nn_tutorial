{
 "cells": [
  {
   "cell_type": "code",
   "execution_count": null,
   "metadata": {},
   "outputs": [],
   "source": [
    "%load_ext autoreload\n",
    "%autoreload 2"
   ]
  },
  {
   "cell_type": "code",
   "execution_count": null,
   "metadata": {},
   "outputs": [],
   "source": [
    "from functools import partial\n",
    "import numpy as np\n",
    "import torch\n",
    "import e3nn\n",
    "from spherical import plot_data_on_grid, SphericalTensor\n",
    "import e3nn.o3 as o3\n",
    "import e3nn.rs as rs\n",
    "\n",
    "import plotly\n",
    "import plotly.graph_objects as go"
   ]
  },
  {
   "cell_type": "code",
   "execution_count": null,
   "metadata": {},
   "outputs": [],
   "source": [
    "def FixedGaussianRadialModel(max_radius, number_of_basis, min_radius=0.):\n",
    "    spacing = (max_radius - min_radius) / number_of_basis\n",
    "    radii = torch.linspace(min_radius, max_radius, number_of_basis)\n",
    "    gamma = 1. / spacing\n",
    "    \n",
    "    def radial_function(x):\n",
    "        shape = x.shape\n",
    "        radial_shape = [1] * len(shape) + [number_of_basis]\n",
    "        thing = radii.reshape(*radial_shape)\n",
    "        x = x.unsqueeze(-1)\n",
    "        return torch.exp(-gamma * (x - thing) ** 2)\n",
    "    \n",
    "    return radial_function"
   ]
  },
  {
   "cell_type": "code",
   "execution_count": null,
   "metadata": {},
   "outputs": [],
   "source": [
    "n_radial = 5\n",
    "lmax = 3\n",
    "Rs = [(n_radial, l) for l in range(lmax)]\n",
    "coefficients = torch.randn(rs.dim(Rs))"
   ]
  },
  {
   "cell_type": "code",
   "execution_count": null,
   "metadata": {},
   "outputs": [],
   "source": [
    "radial_function = FixedGaussianRadialModel(3.0, n_radial)"
   ]
  },
  {
   "cell_type": "code",
   "execution_count": null,
   "metadata": {},
   "outputs": [],
   "source": [
    "r = torch.randn(10,5)\n",
    "radial_function(r).shape"
   ]
  },
  {
   "cell_type": "code",
   "execution_count": null,
   "metadata": {},
   "outputs": [],
   "source": [
    "sphten = SphericalTensor(coefficients, Rs)"
   ]
  },
  {
   "cell_type": "code",
   "execution_count": null,
   "metadata": {},
   "outputs": [],
   "source": [
    "x, f = sphten.plot_with_radial(5.0, radial_model=radial_function)"
   ]
  },
  {
   "cell_type": "code",
   "execution_count": null,
   "metadata": {},
   "outputs": [],
   "source": [
    "plot_max = float(f.abs().max())\n",
    "trace = go.Volume(\n",
    "    x=x[:,0], y=x[:,1], z=x[:,2], value=f,\n",
    "    isomin=-plot_max,\n",
    "    isomax=plot_max,\n",
    "    opacity=0.3, # needs to be small to see through all surfaces\n",
    "    surface_count=50, # needs to be a large number for good volume rendering\n",
    "    colorscale='RdBu'\n",
    ")\n",
    "go.Figure([trace])"
   ]
  },
  {
   "cell_type": "code",
   "execution_count": null,
   "metadata": {},
   "outputs": [],
   "source": []
  }
 ],
 "metadata": {
  "kernelspec": {
   "display_name": "Python 3",
   "language": "python",
   "name": "python3"
  },
  "language_info": {
   "codemirror_mode": {
    "name": "ipython",
    "version": 3
   },
   "file_extension": ".py",
   "mimetype": "text/x-python",
   "name": "python",
   "nbconvert_exporter": "python",
   "pygments_lexer": "ipython3",
   "version": "3.6.9"
  }
 },
 "nbformat": 4,
 "nbformat_minor": 2
}
