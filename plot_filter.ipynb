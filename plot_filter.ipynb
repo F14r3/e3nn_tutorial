{
 "cells": [
  {
   "cell_type": "code",
   "execution_count": null,
   "metadata": {},
   "outputs": [],
   "source": [
    "import matplotlib \n",
    "import matplotlib.pyplot as plt\n",
    "import plotly\n",
    "from plotly.subplots import make_subplots\n",
    "import plotly.graph_objects as go"
   ]
  },
  {
   "cell_type": "code",
   "execution_count": null,
   "metadata": {},
   "outputs": [],
   "source": [
    "from spherical import VisualizeKernel, VisualizeSphericalFunction\n",
    "from functools import partial\n",
    "import numpy as np\n",
    "import torch\n",
    "import e3nn\n",
    "from e3nn.rs import dim, mul_dim\n",
    "import e3nn.o3 as o3\n",
    "\n",
    "basis = lambda r, alpha, norm : norm * torch.exp(- alpha * r.unsqueeze(-1) **2)\n",
    "mul = 3\n",
    "norm = torch.randn(1, mul).abs()\n",
    "alpha = torch.randn(1, mul).abs()\n",
    "basis_on_r = partial(basis, alpha=alpha, norm=norm)\n",
    "\n",
    "Rs = [(1, 0), (2, 1)]\n",
    "\n",
    "assert mul_dim(Rs) == mul"
   ]
  },
  {
   "cell_type": "code",
   "execution_count": null,
   "metadata": {},
   "outputs": [],
   "source": [
    "vsf = VisualizeSphericalFunction(basis_on_r, Rs, o3.spherical_harmonics_xyz)"
   ]
  },
  {
   "cell_type": "code",
   "execution_count": null,
   "metadata": {},
   "outputs": [],
   "source": [
    "r, f = vsf.plot_data_on_grid(5, n=20)\n",
    "i = 0\n",
    "plot_max = float(f[:, i].abs().max())\n",
    "print(plot_max)"
   ]
  },
  {
   "cell_type": "code",
   "execution_count": null,
   "metadata": {},
   "outputs": [],
   "source": [
    "fig = go.Figure(data=go.Volume(\n",
    "    x=r[:,0],\n",
    "    y=r[:,1],\n",
    "    z=r[:,2],\n",
    "    value=f[:, i],\n",
    "    isomin=-plot_max,\n",
    "    isomax=plot_max,\n",
    "    opacity=0.3, # needs to be small to see through all surfaces\n",
    "    surface_count=40, # needs to be a large number for good volume rendering\n",
    "    colorscale='RdBu'))\n",
    "fig.show()"
   ]
  },
  {
   "cell_type": "code",
   "execution_count": null,
   "metadata": {},
   "outputs": [],
   "source": [
    "l0_norm = float(o3.spherical_harmonics_xyz(0, torch.zeros(3))[0])"
   ]
  },
  {
   "cell_type": "code",
   "execution_count": null,
   "metadata": {},
   "outputs": [],
   "source": [
    "x = torch.linspace(0, 4., 50)\n",
    "y = basis_on_r(x).detach()\n",
    "# y.shape\n",
    "plt.plot(x, l0_norm * y[:, 0])"
   ]
  },
  {
   "cell_type": "code",
   "execution_count": null,
   "metadata": {},
   "outputs": [],
   "source": [
    "torch.max(y[:, 0])"
   ]
  },
  {
   "cell_type": "code",
   "execution_count": null,
   "metadata": {},
   "outputs": [],
   "source": []
  }
 ],
 "metadata": {
  "kernelspec": {
   "display_name": "Python 3",
   "language": "python",
   "name": "python3"
  },
  "language_info": {
   "codemirror_mode": {
    "name": "ipython",
    "version": 3
   },
   "file_extension": ".py",
   "mimetype": "text/x-python",
   "name": "python",
   "nbconvert_exporter": "python",
   "pygments_lexer": "ipython3",
   "version": "3.6.9"
  }
 },
 "nbformat": 4,
 "nbformat_minor": 2
}
